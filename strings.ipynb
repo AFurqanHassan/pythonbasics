{
 "cells": [
  {
   "cell_type": "code",
   "execution_count": 1,
   "id": "9338a2d5",
   "metadata": {},
   "outputs": [
    {
     "data": {
      "text/plain": [
       "28"
      ]
     },
     "execution_count": 1,
     "metadata": {},
     "output_type": "execute_result"
    }
   ],
   "source": [
    "# Display the number of letters in the string\n",
    "my_word = \"antidisestablishmentarianism\"\n",
    "len(my_word)"
   ]
  },
  {
   "cell_type": "code",
   "execution_count": 2,
   "id": "e276a5a1",
   "metadata": {},
   "outputs": [
    {
     "data": {
      "text/plain": [
       "'batman'"
      ]
     },
     "execution_count": 2,
     "metadata": {},
     "output_type": "execute_result"
    }
   ],
   "source": [
    "# Concatenate two strings together\n",
    "string_left = \"bat\"\n",
    "string_right = \"man\"\n",
    "string_left + string_right"
   ]
  },
  {
   "cell_type": "code",
   "execution_count": 3,
   "id": "657bd6e7",
   "metadata": {},
   "outputs": [
    {
     "data": {
      "text/plain": [
       "'heebie jeebies'"
      ]
     },
     "execution_count": 3,
     "metadata": {},
     "output_type": "execute_result"
    }
   ],
   "source": [
    "# Display two strings together, with a space in between\n",
    "string_one = \"heebie\"\n",
    "string_two = \"jeebies\"\n",
    "string_one + \" \" + string_two"
   ]
  },
  {
   "cell_type": "code",
   "execution_count": 4,
   "id": "7695dcf5",
   "metadata": {},
   "outputs": [
    {
     "data": {
      "text/plain": [
       "'zing'"
      ]
     },
     "execution_count": 4,
     "metadata": {},
     "output_type": "execute_result"
    }
   ],
   "source": [
    "# Use subscripting to display part of a string\n",
    "\"bazinga\"[2:6]"
   ]
  },
  {
   "cell_type": "code",
   "execution_count": 6,
   "id": "663fe9aa",
   "metadata": {},
   "outputs": [
    {
     "data": {
      "text/plain": [
       "'hee'"
      ]
     },
     "execution_count": 6,
     "metadata": {},
     "output_type": "execute_result"
    }
   ],
   "source": [
    "string_one[:3]"
   ]
  },
  {
   "cell_type": "code",
   "execution_count": 13,
   "id": "f60446bc",
   "metadata": {},
   "outputs": [
    {
     "name": "stdout",
     "output_type": "stream",
     "text": [
      "HEEBIE\n",
      "harder\n"
     ]
    }
   ],
   "source": [
    "stringXtra = \"HARDER\"\n",
    "# converting strings to uppercase and lowercase\n",
    "print(string_one.upper())\n",
    "print(stringXtra.lower())"
   ]
  },
  {
   "cell_type": "code",
   "execution_count": 15,
   "id": "fc1c024e",
   "metadata": {},
   "outputs": [
    {
     "name": "stdout",
     "output_type": "stream",
     "text": [
      "Filet Mignon\n",
      "Brisket\n",
      "Cheeseburger\n"
     ]
    }
   ],
   "source": [
    "string1 = \"    Filet Mignon\"\n",
    "string2 = \"Brisket    \"\n",
    "string3 = \"  Cheeseburger   \"\n",
    "\n",
    "print(string1.strip())  # Could also use .lstrip()\n",
    "print(string2.strip())  # Could also use .rstrip()\n",
    "print(string3.strip())\n"
   ]
  },
  {
   "cell_type": "code",
   "execution_count": 16,
   "id": "4fe5d160",
   "metadata": {},
   "outputs": [
    {
     "name": "stdout",
     "output_type": "stream",
     "text": [
      "False\n",
      "True\n",
      "False\n",
      "False\n"
     ]
    }
   ],
   "source": [
    "string1 = \"Becomes\"\n",
    "string2 = \"becomes\"\n",
    "string3 = \"BEAR\"\n",
    "string4 = \"  bEautiful\"\n",
    "\n",
    "print(string1.startswith(\"be\"))\n",
    "print(string2.startswith(\"be\"))\n",
    "print(string3.startswith(\"be\"))\n",
    "print(string4.startswith(\"be\"))\n"
   ]
  },
  {
   "cell_type": "code",
   "execution_count": 17,
   "id": "100babaa",
   "metadata": {},
   "outputs": [
    {
     "name": "stdout",
     "output_type": "stream",
     "text": [
      "Type something: do something\n"
     ]
    },
    {
     "data": {
      "text/plain": [
       "'do something'"
      ]
     },
     "execution_count": 17,
     "metadata": {},
     "output_type": "execute_result"
    }
   ],
   "source": [
    "# Take input from the user and display that input back\n",
    "my_input = input(\"Type something: \")\n",
    "my_input"
   ]
  },
  {
   "cell_type": "code",
   "execution_count": 18,
   "id": "8ddb4642",
   "metadata": {},
   "outputs": [
    {
     "name": "stdout",
     "output_type": "stream",
     "text": [
      "Type something else: Do something else\n"
     ]
    },
    {
     "data": {
      "text/plain": [
       "17"
      ]
     },
     "execution_count": 18,
     "metadata": {},
     "output_type": "execute_result"
    }
   ],
   "source": [
    "# Take user input and display the number of input characters.\n",
    "input_string = input(\"Type something else: \")\n",
    "len(input_string)"
   ]
  },
  {
   "cell_type": "code",
   "execution_count": 19,
   "id": "0e11a083",
   "metadata": {},
   "outputs": [
    {
     "name": "stdout",
     "output_type": "stream",
     "text": [
      "The first letter you entered was: D\n"
     ]
    }
   ],
   "source": [
    "first_letter = my_input[0]\n",
    "print(\"The first letter you entered was: \" + first_letter.upper())"
   ]
  },
  {
   "cell_type": "code",
   "execution_count": 20,
   "id": "e31bcc34",
   "metadata": {},
   "outputs": [
    {
     "name": "stdout",
     "output_type": "stream",
     "text": [
      "42\n"
     ]
    }
   ],
   "source": [
    "# Store an integer as a string\n",
    "my_integer_string = \"6\"\n",
    "# Convert the 'integer' string into an int object using int()\n",
    "# Multiply the integer by 7 and display the result\n",
    "print(int(my_integer_string) * 7)"
   ]
  },
  {
   "cell_type": "code",
   "execution_count": 21,
   "id": "20fddafe",
   "metadata": {},
   "outputs": [
    {
     "name": "stdout",
     "output_type": "stream",
     "text": [
      "42.07\n"
     ]
    }
   ],
   "source": [
    "# Store a floating-point number as a string\n",
    "my_float_string = \"6.01\"\n",
    "\n",
    "# Convert the 'float' string into a number using float()\n",
    "# Multiply the number by 7 and display the result\n",
    "print(float(my_float_string) * 7)"
   ]
  },
  {
   "cell_type": "code",
   "execution_count": 22,
   "id": "b69365c3",
   "metadata": {},
   "outputs": [
    {
     "name": "stdout",
     "output_type": "stream",
     "text": [
      "mp3\n"
     ]
    }
   ],
   "source": [
    "# Create a string and an int object, then display them together\n",
    "my_string = \"mp\"\n",
    "my_int = 3\n",
    "print(my_string + str(my_int))"
   ]
  },
  {
   "cell_type": "code",
   "execution_count": 23,
   "id": "0943503c",
   "metadata": {},
   "outputs": [
    {
     "name": "stdout",
     "output_type": "stream",
     "text": [
      "Enter a number: 5.24\n",
      "Enter another number: 6\n",
      "The product of 5.24 and 6 is 31.44.\n"
     ]
    }
   ],
   "source": [
    "# Get two numbers from the user, multiply them,\n",
    "# and display the result\n",
    "a = input(\"Enter a number: \")\n",
    "b = input(\"Enter another number: \")\n",
    "product = float(a) * float(b)\n",
    "print(\"The product of \" + a + \" and \" + b + \" is \" + str(product) + \".\")"
   ]
  },
  {
   "cell_type": "code",
   "execution_count": 24,
   "id": "32238a61",
   "metadata": {},
   "outputs": [
    {
     "name": "stdout",
     "output_type": "stream",
     "text": [
      "0.2 kg is the weight of the newt.\n"
     ]
    }
   ],
   "source": [
    "weight = 0.2\n",
    "animal = \"newt\"\n",
    "\n",
    "# Concatenate a number and a string in one print call\n",
    "print(str(weight) + \" kg is the weight of the \" + animal + \".\")"
   ]
  },
  {
   "cell_type": "code",
   "execution_count": null,
   "id": "16938353",
   "metadata": {},
   "outputs": [],
   "source": [
    "# Use format() to print a number and a string inside of another string\n",
    "print(\"{} kg is the weight of the {}.\".format(weight, animal))\n",
    "\n",
    "# Use formatted string literal (f-string) to reference objects inside a string\n",
    "print(f\"{weight} kg is the weight of the {animal}.\")"
   ]
  },
  {
   "cell_type": "markdown",
   "id": "8693e6e6",
   "metadata": {},
   "source": [
    "The find method in Python is case-sensitive, so the code you provided will output -1. This is because the substring \"a\" is not found in the string \"AAA\" with the given capitalization. If you want a case-insensitive search, you can use the lower() "
   ]
  },
  {
   "cell_type": "code",
   "execution_count": 28,
   "id": "c19914de",
   "metadata": {},
   "outputs": [
    {
     "name": "stdout",
     "output_type": "stream",
     "text": [
      "-1\n"
     ]
    }
   ],
   "source": [
    "# Cannot find the string \"a\" in the string \"AAA\":\n",
    "print(\"AAA\".find(\"a\"))"
   ]
  },
  {
   "cell_type": "code",
   "execution_count": 31,
   "id": "498bb7e5",
   "metadata": {},
   "outputs": [
    {
     "name": "stdout",
     "output_type": "stream",
     "text": [
      "Somebody xaid xomething to Samir.\n"
     ]
    }
   ],
   "source": [
    "# Replace every occurrence of the character `\"s\"`\n",
    "# with the character `\"x\"`\n",
    "phrase = \"Somebody said something to Samir.\"\n",
    "phrase = phrase.replace(\"s\", \"x\")\n",
    "print(phrase)\n",
    "# NOTE: This leaves the capital \"S\" unchanged, so the\n",
    "# output will be \"Somebody xaid xomething to Samantha.\""
   ]
  },
  {
   "cell_type": "code",
   "execution_count": 32,
   "id": "5cf78ffa",
   "metadata": {},
   "outputs": [
    {
     "name": "stdout",
     "output_type": "stream",
     "text": [
      "Type something: matrix\n",
      "-1\n"
     ]
    }
   ],
   "source": [
    "# Try to find an upper-case \"X\" in user input:\n",
    "my_input = input(\"Type something: \")\n",
    "print(my_input.find(\"X\"))"
   ]
  }
 ],
 "metadata": {
  "kernelspec": {
   "display_name": "Python 3 (ipykernel)",
   "language": "python",
   "name": "python3"
  },
  "language_info": {
   "codemirror_mode": {
    "name": "ipython",
    "version": 3
   },
   "file_extension": ".py",
   "mimetype": "text/x-python",
   "name": "python",
   "nbconvert_exporter": "python",
   "pygments_lexer": "ipython3",
   "version": "3.11.4"
  }
 },
 "nbformat": 4,
 "nbformat_minor": 5
}
